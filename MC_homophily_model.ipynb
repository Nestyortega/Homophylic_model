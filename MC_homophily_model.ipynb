{
 "cells": [
  {
   "cell_type": "code",
   "execution_count": 4,
   "id": "d0694fe7",
   "metadata": {},
   "outputs": [],
   "source": [
    "import numpy as np\n",
    "import matplotlib.pyplot as plt\n",
    "import pandas as pd\n",
    "from scipy.optimize import minimize, root\n",
    "from scipy.interpolate import interp1d\n",
    "from cmath import sqrt\n",
    "from scipy.special import gammaln, logsumexp\n",
    "import warnings\n",
    "#from jax import jit, vmap, config, random, device_put, devices\n",
    "#from jax.lax import fori_loop, cond\n",
    "#import jax.numpy as jnp\n",
    "#from jax.experimental.sparse import todense"
   ]
  },
  {
   "cell_type": "code",
   "execution_count": 381,
   "id": "b62a12d4",
   "metadata": {},
   "outputs": [],
   "source": [
    "import numpy as np\n",
    "import networkx as nx\n",
    "\n",
    "class SocialNetworkModel:\n",
    "    def __init__(self, samples,  N, G, Ady, α, β, r_o, maxit):\n",
    "        \n",
    "        N = N\n",
    "        G = G\n",
    "        r_o = r_o\n",
    "        β = β\n",
    "        α = α\n",
    "        maxit = maxit\n",
    "        \n",
    "        Ady = Ady  # Adjacency matrix to represent links\n",
    "        J = np.zeros_like(Ady)  # Adjacency matrix to represent links\n",
    "        opinions = np.random.choice([-1, 1], size=(samples, N, G))  # Random binary opinions for each individual\n",
    "        r_opinions = np.zeros((100, N, G))  # Random binary relevant opinions for each individual\n",
    "        for i in range(N):\n",
    "            #print(i)\n",
    "            self.r_opinions[i][np.random.choice(G, r_o, replace=False)] = 1\n",
    "    def update_J(self):\n",
    "            self.J = np.sign(((self.opinions*self.r_opinions) @ (self.opinions*self.r_opinions).T)*self.Ady)\n",
    "    def update_opinions(self):\n",
    "        a= 0\n",
    "        for spin in range(self.N):\n",
    "            for op in range(self.G):\n",
    "                #print(i)\n",
    "                spin = np.random.choice(self.N)\n",
    "                op = np.random.choice(self.G)\n",
    "                opinions_new = self.opinions.copy()\n",
    "                opinions_new[spin][op] = -1*opinions_new[spin][op]\n",
    "                H = self.compute_H(self.opinions)[spin]\n",
    "                H_flip = self.compute_H(opinions_new)[spin]\n",
    "                if np.random.random() <  np.exp(-beta*(H_flip - H)):\n",
    "                    #a+=1\n",
    "                    self.opinions = opinions_new\n",
    "                    self.update_J()\n",
    "        #return a\n",
    "    def update_opinion(self, spin, op):\n",
    "        opinions_new = self.opinions.copy()\n",
    "        opinions_new[spin][op] = -1*opinions_new[spin][op]\n",
    "        H = self.compute_H(self.opinions)[spin]\n",
    "        H_flip = self.compute_H(opinions_new)[spin]\n",
    "        \n",
    "        #print(H_flip, H, np.exp(-beta*(H_flip - H)))\n",
    "        \n",
    "        if np.random.random() <  np.exp(-beta*(H_flip - H)):\n",
    "            self.opinions = opinions_new\n",
    "            self.update_J()\n",
    "        \n",
    "    def compute_H(self, opinions):\n",
    "        return (-self.alpha/self.G*np.sum((opinions@ opinions.T)* self.Ady, axis=1)\n",
    "                *(np.sum((opinions@ opinions.T)*self.Ady, axis=1)>0) \n",
    "                + (1-self.alpha)/self.G*np.sum((opinions@ opinions.T)* self.Ady, axis=1)\n",
    "                *(np.sum((opinions@ opinions.T)*self.Ady, axis=1)>0))\n",
    "  \n",
    "    def compute_H_local(self, opinions, spin, op):\n",
    "        H_loc=0\n",
    "        H_loc_flip = 0\n",
    "        opinions_new = self.opinions.copy()\n",
    "        opinions_new[spin][op] = -1*opinions_new[spin][op]\n",
    "        for j in self.opinions[self.Ady[spin]]:\n",
    "            H_loc+= -self.alpha/self.G * np.sum( (opinions[spin]@j) *((opinions[spin]@j)>0))+(1-self.alpha)/self.G * np.sum( (opinions[spin]@j) *((opinions[spin]@j)<0))\n",
    "            H_loc_flip+= -self.alpha/self.G * np.sum( (opinions_new[spin]@j) *((opinions_new[spin]@j)>0))+(1-self.alpha)/self.G * np.sum( (opinions_new[spin]@j) *((opinions_new[spin]@j)<0))\n",
    "        return H_loc_flip, H_loc\n",
    "    \n",
    "    def run(self):\n",
    "        a=0\n",
    "        for i in range(self.maxit):\n",
    "            H = np.sum(self.compute_H(self.opinions))\n",
    "            #print(H)\n",
    "            self.update_opinions()\n",
    "            H_ = np.sum(self.compute_H(self.opinions))\n",
    "            #print(H_)\n",
    "            if i>10 and (H - H_)<1e-20:\n",
    "                a+=1\n",
    "            if a>10:\n",
    "                #print(i)\n",
    "                return 1\n",
    "                break\n",
    "        \n",
    "        return 0\n",
    "            \n",
    "# Example usage\n",
    "N = 100  # Number of individuals\n",
    "G = 3   # Number of binary opinions\n",
    "r_o = 3\n",
    "alpha = .0  # Alpha parameter\n",
    "Ady = np.random.random((N, N))\n",
    "Ady = Ady<=3/(2*1000)\n",
    "for i in range(N):\n",
    "    Ady[i][i]=0\n",
    "beta = 100\n",
    "maxit = 100\n",
    "model = SocialNetworkModel(N, G, Ady, alpha, beta, r_o, maxit)\n"
   ]
  },
  {
   "cell_type": "code",
   "execution_count": null,
   "id": "2a93bc6f",
   "metadata": {},
   "outputs": [
    {
     "name": "stderr",
     "output_type": "stream",
     "text": [
      "/var/folders/dk/__wxlb2x1l5clbbns5cgw5t40000gp/T/ipykernel_21531/859448302.py:28: FutureWarning: adjacency_matrix will return a scipy.sparse array instead of a matrix in Networkx 3.0.\n",
      "  Ady = np.array(nx.adjacency_matrix(S).toarray())\n"
     ]
    },
    {
     "name": "stdout",
     "output_type": "stream",
     "text": [
      "32\n",
      "[-1 -1 -1 -1 -1 -1 -1 -1  1 -1]\n",
      "32\n",
      "[-1 -1 -1 -1 -1 -1  1 -1 -1  1]\n",
      "[-1 -1 -1 -1 -1  1 -1 -1 -1  1]\n",
      "[-1 -1 -1  1 -1 -1 -1 -1 -1  1]\n",
      "[-1 -1 -1  1 -1  1 -1 -1 -1 -1]\n",
      "[-1 -1  1  1 -1  1 -1 -1 -1  1]\n",
      "35\n",
      "[-1 -1 -1 -1 -1 -1 -1  1 -1  1]\n",
      "[-1 -1 -1 -1 -1 -1  1  1 -1 -1]\n",
      "[-1 -1 -1  1  1 -1  1  1 -1 -1]\n",
      "[-1  1 -1  1 -1 -1  1  1 -1 -1]\n",
      "[ 1  1 -1  1 -1  1  1  1 -1 -1]\n",
      "35\n",
      "[-1 -1 -1 -1 -1 -1  1 -1 -1  1]\n",
      "[-1 -1 -1  1 -1 -1  1 -1 -1  1]\n",
      "[-1 -1  1  1 -1  1 -1 -1 -1  1]\n",
      "[ 1 -1 -1 -1 -1 -1 -1 -1 -1  1]\n",
      "[ 1 -1 -1  1 -1  1 -1 -1  1  1]\n",
      "30\n",
      "[-1 -1 -1 -1 -1 -1 -1 -1 -1  1]\n",
      "[-1 -1 -1 -1 -1  1 -1 -1 -1 -1]\n",
      "[-1 -1 -1 -1 -1  1 -1 -1 -1  1]\n",
      "[-1  1 -1 -1 -1  1  1  1 -1  1]\n",
      "[-1  1 -1 -1  1  1 -1 -1 -1  1]\n",
      "[-1  1 -1 -1  1  1  1 -1 -1  1]\n",
      "[-1  1  1 -1 -1  1 -1 -1 -1  1]\n",
      "[-1  1  1 -1 -1  1  1 -1 -1  1]\n",
      "29\n",
      "[-1 -1 -1 -1 -1 -1 -1  1 -1  1]\n",
      "[-1 -1 -1 -1 -1 -1  1 -1 -1 -1]\n",
      "[-1 -1 -1 -1 -1  1  1 -1 -1 -1]\n",
      "30\n",
      "[-1 -1 -1 -1 -1 -1 -1 -1  1  1]\n",
      "[-1 -1 -1 -1 -1 -1 -1  1  1  1]\n",
      "[-1 -1 -1 -1  1 -1 -1 -1  1  1]\n",
      "[-1 -1 -1 -1  1  1 -1 -1  1  1]\n",
      "[-1 -1 -1 -1  1  1  1 -1  1  1]\n",
      "[-1  1 -1 -1  1 -1 -1 -1  1  1]\n",
      "[-1  1 -1 -1  1 -1  1  1  1  1]\n",
      "[-1  1 -1 -1  1  1 -1  1  1  1]\n",
      "[-1  1 -1 -1  1  1  1 -1  1  1]\n",
      "[-1  1 -1 -1  1  1  1  1  1  1]\n",
      "[ 1  1 -1 -1  1  1  1  1  1  1]\n",
      "30\n",
      "[-1 -1 -1 -1 -1 -1 -1 -1 -1 -1]\n",
      "[-1 -1 -1 -1 -1  1 -1 -1 -1  1]\n",
      "[-1 -1 -1 -1 -1  1  1 -1  1  1]\n",
      "[-1  1 -1 -1 -1 -1 -1 -1  1  1]\n",
      "[-1  1 -1 -1 -1  1 -1 -1  1  1]\n",
      "33\n",
      "[-1 -1 -1 -1 -1 -1 -1 -1 -1  1]\n",
      "[-1 -1 -1 -1 -1 -1  1 -1  1 -1]\n",
      "[-1 -1 -1 -1 -1  1 -1 -1 -1 -1]\n",
      "[-1 -1 -1 -1 -1  1  1 -1  1 -1]\n",
      "[-1 -1 -1 -1 -1  1  1  1 -1  1]\n",
      "[-1 -1 -1  1 -1  1  1  1 -1 -1]\n",
      "[-1  1 -1 -1 -1  1 -1 -1 -1 -1]\n",
      "[-1  1 -1 -1 -1  1  1 -1  1 -1]\n",
      "[-1  1 -1 -1 -1  1  1  1 -1 -1]\n",
      "[ 1 -1 -1 -1 -1  1  1  1 -1 -1]\n",
      "[ 1 -1  1 -1  1  1  1 -1 -1 -1]\n",
      "[ 1  1 -1 -1 -1 -1  1 -1 -1 -1]\n",
      "[ 1  1 -1 -1 -1  1  1 -1 -1 -1]\n"
     ]
    }
   ],
   "source": [
    "ρ = {}\n",
    "t = {}\n",
    "t_p = {}\n",
    "M = {}\n",
    "k = 3\n",
    "  # Number of individuals\n",
    "G = 10\n",
    "for r_o in range(G):\n",
    "    ρ[r_o+1] = {}\n",
    "    t[r_o+1] = {}\n",
    "    t_p[r_o+1] = {}\n",
    "    M[r_o+1] = {}\n",
    "for α in np.arange(0, 1.1, 0.1):\n",
    "    for r_o in range(G):\n",
    "        ρ[r_o+1][α] = []\n",
    "        t_p[r_o+1][α] = []\n",
    "        t[r_o+1][α] = []\n",
    "        M[r_o+1][α] = []\n",
    "    a = 0\n",
    "    for i in range(100):\n",
    "        N_1 = 300\n",
    "        N = N_1.real\n",
    "        #r_o = 1\n",
    "        #alpha = .0  # Alpha parameter\n",
    "        G_1 = nx.erdos_renyi_graph(N_1, k/N_1)\n",
    "        largest_cc = max(nx.connected_components(G_1), key=len)\n",
    "        S = G_1.subgraph(largest_cc).copy()\n",
    "        Ady = np.array(nx.adjacency_matrix(S).toarray())\n",
    "        N_1 = len(S)\n",
    "        #print(N)\n",
    "        β = beta = 10\n",
    "        maxit = 10000\n",
    "        for r_o in range(G):\n",
    "            model = SocialNetworkModel(N_1, G, Ady, α, beta, r_o+1, maxit)\n",
    "            a+= model.run()\n",
    "            ρ[r_o+1][α].append(np.sum(model.J[model.J>0])/(np.sum(model.J[model.J>0]) - np.sum(model.J[model.J<0])))\n",
    "            t[r_o+1][α].append((np.sum(model.J[model.J>0]) - np.sum(model.J[model.J<0])))\n",
    "            t_p[r_o+1][α].append(np.sum(model.J[model.J>0]))\n",
    "            max_opinion = [1, 1, 1]\n",
    "            mag_count = 0\n",
    "            for j in np.unique(model.opinions, axis=0):\n",
    "                if np.sum(model.opinions==j)>mag_count:\n",
    "                    print(j)\n",
    "                    mag_count = np.sum(model.opinions==j)\n",
    "                    max_opinion = j\n",
    "            M[r_o+1][α].append(np.sum(model.opinions@max_opinion)/(N_1*G))\n",
    "            fig, ax = plt.subplots()\n",
    "            ax.matshow(model.J)\n",
    "            ax.set(title=f'Interaction matrix J')\n",
    "            fig.savefig(f'J_{ r_o = }_{ β = }_{ α = }.png', bbox_inches='tight')\n",
    "            fig, ax = plt.subplots()\n",
    "            maping = {j:i for i, j in enumerate(S.nodes())}\n",
    "            H_1 = nx.relabel_nodes(S, maping)\n",
    "            m = model.opinions@max_opinion\n",
    "            pos = nx.circular_layout(H_1)\n",
    "            colors = {-1: 'red', 1: 'blue', 0: 'grey'}\n",
    "            edge_color = [colors[model.J[i][j]] for i, j in H_1.edges()]\n",
    "            nx.draw(H_1, pos, with_labels=False, node_size=10, node_color=m, edge_color=edge_color, cmap=plt.cm.RdBu, vmin = -10, vmax=10)\n",
    "            fig.savefig(f'Network_{ r_o = }_{ β = }_{ α = }_{N=}_{k=}_.png')\n",
    "            "
   ]
  },
  {
   "cell_type": "code",
   "execution_count": null,
   "id": "203c8434",
   "metadata": {},
   "outputs": [],
   "source": [
    "ρ_m = {}\n",
    "tρ_m = {}\n",
    "t_m = {}\n",
    "ρ_s = {}\n",
    "M_m = {}\n",
    "for r_o in range(G):\n",
    "    ρ_m[r_o] = []\n",
    "    M_m[r_o] = []\n",
    "    tρ_m[r_o] = []\n",
    "    t_m[r_o] = []\n",
    "    ρ_s[r_o] = []\n",
    "    for α in np.arange(0, 1.1, 0.1):\n",
    "        ρ_m[r_o].append(np.mean(ρ[r_o+1][α]))\n",
    "        M_m[r_o].append(np.mean(M[r_o+1][α]))\n",
    "        ρ_s[r_o].append(np.std(ρ[r_o+1][α]))\n",
    "        tρ_m[r_o].append(np.mean(t_p[r_o+1][α]))\n",
    "        t_m[r_o].append(np.std(t[r_o+1][α]))"
   ]
  },
  {
   "cell_type": "code",
   "execution_count": null,
   "id": "b4d235e3",
   "metadata": {},
   "outputs": [],
   "source": [
    "for r_o in range(G):\n",
    "    plt.plot(np.arange(0, 1.1, 0.1), ρ_m[r_o],\"--\", label = \"r_o= \"+str(r_o+1))\n",
    "    plt.fill_between(np.arange(0, 1.1, 0.1),\n",
    "                                np.array(ρ_m[r_o]) - np.array(ρ_s[r_o])/10,\n",
    "                                    np.array(ρ_m[r_o]) + np.array(ρ_s[r_o])/10, alpha=0.5)\n",
    "#plt.plot(df['t3']['α'], df['t3']['ρ+'], 'o-', label = 'T = 0.2')\n",
    "plt.title(f'{G =}_T = 0.2')\n",
    "plt.xlabel(\"α\")\n",
    "plt.ylabel(\"ρ+\")\n",
    "#plt.legend()"
   ]
  },
  {
   "cell_type": "code",
   "execution_count": null,
   "id": "52fe667a",
   "metadata": {},
   "outputs": [],
   "source": [
    "for r_o in range(G):\n",
    "    plt.plot(np.arange(0, 1.1, 0.1), M_m[r_o],\"--\", label = \"r_o= \"+str(r_o+1))\n",
    "    #plt.fill_between(np.arange(0, 1.1, 0.1),\n",
    "                                #np.array(ρ_m[r_o]) - np.array(ρ_s[r_o])/10,\n",
    "                                    #np.array(ρ_m[r_o]) + np.array(ρ_s[r_o])/10, alpha=0.5)\n",
    "#plt.plot(df['t3']['α'], df['t3']['M'], 'o-', label = 'T = 0.2')\n",
    "plt.title(f'{G =}_T = 0.2')\n",
    "plt.xlabel(\"α\")\n",
    "plt.ylabel(\"M\")\n",
    "#plt.legend()"
   ]
  },
  {
   "cell_type": "code",
   "execution_count": null,
   "id": "f5210a56",
   "metadata": {},
   "outputs": [],
   "source": [
    "for r_o in range(G):\n",
    "    plt.plot(np.arange(0, 1.1, 0.1), t_m[r_o], label = \"r_o= \"+str(r_o+1))\n",
    "#plt.legend()"
   ]
  },
  {
   "cell_type": "code",
   "execution_count": null,
   "id": "f0ded0a5",
   "metadata": {},
   "outputs": [],
   "source": [
    "for r_o in range(G):\n",
    "    plt.plot(np.arange(0, 1.1, 0.1), tρ_m[r_o], label = \"r_o= \"+str(r_o+1))\n",
    "#plt.legend()"
   ]
  },
  {
   "cell_type": "code",
   "execution_count": 26,
   "id": "3f55a870",
   "metadata": {},
   "outputs": [],
   "source": [
    "opinions =np.random.choice([-1, 1], size=(2, 3, 3))  # Random binary opinions for each individual"
   ]
  },
  {
   "cell_type": "code",
   "execution_count": 27,
   "id": "3275bf14",
   "metadata": {},
   "outputs": [
    {
     "data": {
      "text/plain": [
       "array([[ 1,  1,  1],\n",
       "       [ 1,  1,  1],\n",
       "       [-1,  1,  1]])"
      ]
     },
     "execution_count": 27,
     "metadata": {},
     "output_type": "execute_result"
    }
   ],
   "source": [
    "opinions[0]"
   ]
  },
  {
   "cell_type": "code",
   "execution_count": 37,
   "id": "5c843e7b",
   "metadata": {},
   "outputs": [],
   "source": [
    "Ady = np.random.random((3, 3))\n",
    "Ady = Ady<=3/(2*3)\n",
    "for i in range(3):\n",
    "    Ady[i][i]=0"
   ]
  },
  {
   "cell_type": "code",
   "execution_count": 38,
   "id": "0f3fa638",
   "metadata": {},
   "outputs": [
    {
     "data": {
      "text/plain": [
       "array([[[-1,  1,  1],\n",
       "        [ 0,  0,  0],\n",
       "        [ 1,  1,  1]],\n",
       "\n",
       "       [[-1, -1, -1],\n",
       "        [ 0,  0,  0],\n",
       "        [-1,  1,  1]]])"
      ]
     },
     "execution_count": 38,
     "metadata": {},
     "output_type": "execute_result"
    }
   ],
   "source": [
    "(Ady @ opinions)"
   ]
  },
  {
   "cell_type": "code",
   "execution_count": 40,
   "id": "fc78db85",
   "metadata": {},
   "outputs": [
    {
     "data": {
      "text/plain": [
       "(array([[False, False,  True],\n",
       "        [False, False, False],\n",
       "        [False,  True, False]]),\n",
       " array([[[ 1,  1,  1],\n",
       "         [ 1,  1,  1],\n",
       "         [-1,  1,  1]],\n",
       " \n",
       "        [[ 1,  1, -1],\n",
       "         [-1,  1,  1],\n",
       "         [-1, -1, -1]]]))"
      ]
     },
     "execution_count": 40,
     "metadata": {},
     "output_type": "execute_result"
    }
   ],
   "source": [
    "Ady, opinions"
   ]
  },
  {
   "cell_type": "code",
   "execution_count": 42,
   "id": "ec6e9456",
   "metadata": {},
   "outputs": [],
   "source": [
    "r_opinions = np.zeros((2, 3, 3))  # Random binary relevant opinions for each individual\n",
    "        "
   ]
  },
  {
   "cell_type": "code",
   "execution_count": 43,
   "id": "21b83482",
   "metadata": {},
   "outputs": [
    {
     "data": {
      "text/plain": [
       "array([[[0., 0., 0.],\n",
       "        [0., 0., 0.],\n",
       "        [0., 0., 0.]],\n",
       "\n",
       "       [[0., 0., 0.],\n",
       "        [0., 0., 0.],\n",
       "        [0., 0., 0.]]])"
      ]
     },
     "execution_count": 43,
     "metadata": {},
     "output_type": "execute_result"
    }
   ],
   "source": [
    "r_opinions"
   ]
  },
  {
   "cell_type": "code",
   "execution_count": 56,
   "id": "ebe1f665",
   "metadata": {},
   "outputs": [
    {
     "ename": "IndexError",
     "evalue": "index 2 is out of bounds for axis 0 with size 2",
     "output_type": "error",
     "traceback": [
      "\u001b[0;31m---------------------------------------------------------------------------\u001b[0m",
      "\u001b[0;31mIndexError\u001b[0m                                Traceback (most recent call last)",
      "Cell \u001b[0;32mIn[56], line 1\u001b[0m\n\u001b[0;32m----> 1\u001b[0m \u001b[43mr_opinions\u001b[49m\u001b[43m[\u001b[49m\u001b[43mnp\u001b[49m\u001b[38;5;241;43m.\u001b[39;49m\u001b[43marray\u001b[49m\u001b[43m(\u001b[49m\u001b[43mnp\u001b[49m\u001b[38;5;241;43m.\u001b[39;49m\u001b[43msplit\u001b[49m\u001b[43m(\u001b[49m\u001b[43mnp\u001b[49m\u001b[38;5;241;43m.\u001b[39;49m\u001b[43marray\u001b[49m\u001b[43m(\u001b[49m\u001b[43m[\u001b[49m\u001b[43mnp\u001b[49m\u001b[38;5;241;43m.\u001b[39;49m\u001b[43mrandom\u001b[49m\u001b[38;5;241;43m.\u001b[39;49m\u001b[43mchoice\u001b[49m\u001b[43m(\u001b[49m\u001b[38;5;241;43m3\u001b[39;49m\u001b[43m,\u001b[49m\u001b[43m \u001b[49m\u001b[38;5;241;43m2\u001b[39;49m\u001b[43m,\u001b[49m\u001b[43m \u001b[49m\u001b[43mreplace\u001b[49m\u001b[38;5;241;43m=\u001b[39;49m\u001b[38;5;28;43;01mFalse\u001b[39;49;00m\u001b[43m)\u001b[49m\u001b[43m \u001b[49m\u001b[38;5;28;43;01mfor\u001b[39;49;00m\u001b[43m \u001b[49m\u001b[43mi\u001b[49m\u001b[43m \u001b[49m\u001b[38;5;129;43;01min\u001b[39;49;00m\u001b[43m \u001b[49m\u001b[38;5;28;43mrange\u001b[39;49m\u001b[43m(\u001b[49m\u001b[38;5;241;43m2\u001b[39;49m\u001b[38;5;241;43m*\u001b[39;49m\u001b[38;5;241;43m3\u001b[39;49m\u001b[43m)\u001b[49m\u001b[43m]\u001b[49m\u001b[43m)\u001b[49m\u001b[43m,\u001b[49m\u001b[43m \u001b[49m\u001b[38;5;241;43m2\u001b[39;49m\u001b[43m)\u001b[49m\u001b[43m)\u001b[49m\u001b[43m]\u001b[49m \u001b[38;5;241m=\u001b[39m \u001b[38;5;241m1\u001b[39m\n",
      "\u001b[0;31mIndexError\u001b[0m: index 2 is out of bounds for axis 0 with size 2"
     ]
    }
   ],
   "source": [
    "r_opinions[np.array(np.split(np.array([np.random.choice(3, 2, replace=False) for i in range(2*3)]), 2))] = 1"
   ]
  },
  {
   "cell_type": "code",
   "execution_count": null,
   "id": "fd0c3b68",
   "metadata": {},
   "outputs": [],
   "source": []
  }
 ],
 "metadata": {
  "kernelspec": {
   "display_name": "Python 3 (ipykernel)",
   "language": "python",
   "name": "python3"
  },
  "language_info": {
   "codemirror_mode": {
    "name": "ipython",
    "version": 3
   },
   "file_extension": ".py",
   "mimetype": "text/x-python",
   "name": "python",
   "nbconvert_exporter": "python",
   "pygments_lexer": "ipython3",
   "version": "3.9.6"
  }
 },
 "nbformat": 4,
 "nbformat_minor": 5
}
